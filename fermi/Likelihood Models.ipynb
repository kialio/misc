{
 "cells": [
  {
   "cell_type": "markdown",
   "metadata": {},
   "source": [
    "# code\n",
    "The code for these lives in glast/Likelihood/src"
   ]
  },
  {
   "cell_type": "markdown",
   "metadata": {},
   "source": [
    "## BrokenPowerLaw3\n",
    "A broken power-law function that uses integrated flux above and below the break, and indices above and below the break.  The upper and lower bounds of integration above and below the break are fixed parameters.\n",
    "\n",
    "This enables setting priors on the either of the power-law components based on measurements by other instruments at lower or higher energies (e.g., GBM or TeV instruments)."
   ]
  },
  {
   "cell_type": "markdown",
   "metadata": {},
   "source": [
    "$\\frac{dN}{dE} = N_0(N_1,N_2,E1_{min},E1_{max},E2_{min},E2_{max},\\gamma_1,\\gamma_2) = \\begin{cases}\n",
    "               (E/E_b)^{\\gamma_1}               & E < E_b\\\\\n",
    "               (E/E_b)^{\\gamma_2}               & \\text{otherwise}\n",
    "           \\end{cases} $"
   ]
  },
  {
   "cell_type": "markdown",
   "metadata": {},
   "source": [
    "where"
   ]
  },
  {
   "cell_type": "markdown",
   "metadata": {},
   "source": [
    "$E_b(N_1,N_2,E1_{min},E1_{max},E2_{min},E2_{max},\\gamma_1,\\gamma_2) = \\left(\\frac{N_1}{N_2}\\frac{1 + \\gamma_1}{1 + \\gamma_2} \\frac{E2_{max}^{1 + \\gamma_2}-E2_{min}^{1 + \\gamma_2}}{E1_{max}^{1 + \\gamma_1}-E1_{min}^{1 + \\gamma_1}}\\right)^{1/(\\gamma_2 - \\gamma_1)} $"
   ]
  },
  {
   "cell_type": "markdown",
   "metadata": {},
   "source": [
    "and"
   ]
  },
  {
   "cell_type": "markdown",
   "metadata": {},
   "source": [
    "$N_0(N_1,N_2,E1_{min},E1_{max},E2_{min},E2_{max},\\gamma_1,\\gamma_2) = N_1(1 + \\gamma_1)\\frac{{E_b(N_1,N_2,E1_{min},E1_{max},E2_{min},E2_{max},\\gamma_1,\\gamma_2)}^{\\gamma_1}}{{E1_{max}}^{1+\\gamma_1} - {E1_{min}}^{1+\\gamma_1}}$"
   ]
  },
  {
   "cell_type": "markdown",
   "metadata": {},
   "source": [
    "and\n",
    "\n",
    "* Integral1 = $N_1$\n",
    "* Integral2 = $N_2$\n",
    "* Index1 = $\\gamma_1$\n",
    "* Index2 = $\\gamma_2$\n",
    "* LowerLimit1 = $E1_{min}$\n",
    "* LowerLimit2 = $E2_{min}$\n",
    "* UpperLimit1 = $E1_{max}$\n",
    "* UpperLimit2 = $E2_{max}$"
   ]
  },
  {
   "cell_type": "raw",
   "metadata": {},
   "source": [
    "<source name=\"BrokenPowerLaw3_source\" type=\"PointSource\">\n",
    "  <spectrum type=\"BrokenPowerLaw3\">\n",
    "    <parameter free=\"1\" max=\"1000\" min=\"0\" name=\"Integral1\" scale=\"1e-7\" value=\"1.8\" />\n",
    "    <parameter free=\"1\" max=\"1\" min=\"-5\" name=\"Index1\" scale=\"1\" value=\"-0.88\" />\n",
    "    <parameter free=\"1\" max=\"1000\" min=\"0\" name=\"Integral2\" scale=\"1e-9\" value=\"1.1805\" />\n",
    "    <parameter free=\"1\" max=\"-0\" min=\"-5\" name=\"Index2\" scale=\"1\" value=\"-2.1024\" />\n",
    "    <parameter free=\"0\" max=\"300000\" min=\"20\" name=\"LowerLimit1\" scale=\"1\" value=\"100\" />\n",
    "    <parameter free=\"0\" max=\"300000\" min=\"20\" name=\"UpperLimit1\" scale=\"1\" value=\"2e4\" />\n",
    "    <parameter free=\"0\" max=\"1e6\" min=\"3e4\" name=\"LowerLimit2\" scale=\"1\" value=\"3e5\" />\n",
    "    <parameter free=\"0\" max=\"5e6\" min=\"3e4\" name=\"UpperLimit2\" scale=\"1\" value=\"2e6\" />\n",
    "  </spectrum>\n",
    "  <spatialModel type=\"SkyDirFunction\">\n",
    "    <parameter free=\"0\" max=\"360\" min=\"-360\" name=\"RA\" scale=\"1\" value=\"194.5\" />\n",
    "    <parameter free=\"0\" max=\"90\" min=\"-90\" name=\"DEC\" scale=\"1\" value=\"-5.78\" />\n",
    "  </spatialModel>\n",
    "</source>"
   ]
  },
  {
   "cell_type": "markdown",
   "metadata": {},
   "source": [
    "## ExpCutoffSEDPeak\n",
    "\n",
    "Exponential cutoff with the SED peak energy and flux, and index as free parameters."
   ]
  },
  {
   "cell_type": "markdown",
   "metadata": {},
   "source": [
    "$\\frac{dN}{dE} = \\frac{N_{\\text peak}}{E_{\\text peak}} (E/E_{\\text peak})^{\\gamma} (e^{1 - E/E_{\\text peak}})^{\\gamma+_2}$"
   ]
  },
  {
   "cell_type": "markdown",
   "metadata": {},
   "source": [
    "and"
   ]
  },
  {
   "cell_type": "markdown",
   "metadata": {},
   "source": [
    "* Fpeak = $N_{\\text peak}$\n",
    "* Index = $\\gamma$\n",
    "* Epeak = $E_{\\text peak}$"
   ]
  },
  {
   "cell_type": "raw",
   "metadata": {},
   "source": [
    "<source name=\"ExpCutoffSEDPeak_source\" type=\"PointSource\">\n",
    "  <spectrum type=\"ExpCutoffSEDPeak\">\n",
    "    <parameter free=\"1\" max=\"1\" min=\"-5\" name=\"Index\" scale=\"1\" value=\"-2.0\" />\n",
    "    <parameter free=\"1\" max=\"1e6\" min=\"3e4\" name=\"Fpeak\" scale=\"1\" value=\"3e5\" />\n",
    "    <parameter free=\"1\" max=\"5e6\" min=\"3e4\" name=\"Epeak\" scale=\"1\" value=\"2e6\" />\n",
    "  </spectrum>\n",
    "  <spatialModel type=\"SkyDirFunction\">\n",
    "    <parameter free=\"0\" max=\"360\" min=\"-360\" name=\"RA\" scale=\"1\" value=\"194.5\" />\n",
    "    <parameter free=\"0\" max=\"90\" min=\"-90\" name=\"DEC\" scale=\"1\" value=\"-5.78\" />\n",
    "  </spatialModel>\n",
    "</source>"
   ]
  },
  {
   "cell_type": "markdown",
   "metadata": {},
   "source": [
    "## BrokenPowerLawExpCutoff\n",
    "\n",
    "Broken Power Law with and Exponential Cutoff that uses the normalization, the indices above and below the break, the absolute energy scale of the cutoff and a normalization factor of the cutoff as free parameters."
   ]
  },
  {
   "cell_type": "markdown",
   "metadata": {},
   "source": [
    "$\\frac{dN}{dE} = N_0(N,\\gamma_1,\\gamma_2,E_b,E_{abs},P1) = \\begin{cases}\n",
    "               (E/E_b)^{\\gamma_1}               & E < E_b~{\\rm and}~E < E_{abs}\\\\\n",
    "               (E/E_b)^{\\gamma_2}               & E_b < E < E_{abs}\\\\\n",
    "               (E/E_b)^{\\gamma_1}(e^{-(E-E_{abs})/P1}) & E_{abs} < E < E_b\\\\\n",
    "               (E/E_b)^{\\gamma_2}(e^{-(E-E_{abs})/P1}) & E > E_b~{\\rm and}~E > E_{abs}\n",
    "           \\end{cases} $"
   ]
  },
  {
   "cell_type": "markdown",
   "metadata": {},
   "source": [
    "and"
   ]
  },
  {
   "cell_type": "markdown",
   "metadata": {},
   "source": [
    "* Prefactor = $N_0$\n",
    "* Index1 = $\\gamma_1$\n",
    "* Index2 = $\\gamma_2$\n",
    "* Eabs (cutoff scale) = $E_{abs}$\n",
    "* P1 (cutoff norm) = $P1$"
   ]
  },
  {
   "cell_type": "raw",
   "metadata": {},
   "source": [
    "<source name=\"BPLExpCutoff_source\" type=\"PointSource\">\n",
    "<!-- point source units are cm^-2 s^-1 MeV^-1 -->\n",
    "<spectrum type=\"BPLExpCutoff\">\n",
    "<parameter free=\"1\" max=\"100000.0\" min=\"0.01\" name=\"Prefactor\" scale=\"1e-09\" value=\"1\"/>\n",
    "<parameter free=\"1\" max=\"-1.001\" min=\"-5.\" name=\"Index1\" scale=\"1.0\" value=\"-2.1\"/>\n",
    "<parameter free=\"1\" max=\"-1.001\" min=\"-5.\" name=\"Index2\" scale=\"1.0\" value=\"-2.1\"/>\n",
    "<parameter free=\"1\" max=\"10000.0\" min=\"1.0\" name=\"BreakValue\" scale=\"1.0\" value=\"1000.0\"/>\n",
    "<parameter free=\"1\" max=\"300.0\" min=\"1.0\" name=\"Eabs\" scale=\"1.0\" value=\"10.0\"/>\n",
    "<parameter free=\"1\" max=\"300.0\" min=\"0.1\" name=\"P1\" scale=\"1000.0\" value=\"100.\"/>\n",
    "</spectrum>\n",
    "<spatialModel type=\"SkyDirFunction\">\n",
    "<parameter free=\"0\" max=\"360.\" min=\"-360.\" name=\"RA\" scale=\"1.0\" value=\"83.45\"/>\n",
    "<parameter free=\"0\" max=\"90.\" min=\"-90.\" name=\"DEC\" scale=\"1.0\" value=\"21.72\"/>\n",
    "</spatialModel>\n",
    "</source>"
   ]
  },
  {
   "cell_type": "markdown",
   "metadata": {},
   "source": [
    "## LogGaussian\n",
    "\n",
    "The logarithm of a Gaussian function with the mean, sigma and normalization of the Gaussian as free parameters."
   ]
  },
  {
   "cell_type": "markdown",
   "metadata": {},
   "source": [
    "$\\frac{dN}{dE} = N_0 (\\frac{-( E - \\mu)^2}{2\\sigma^2} - \\ln{\\sqrt{2\\pi}\\sigma})$"
   ]
  },
  {
   "cell_type": "markdown",
   "metadata": {},
   "source": [
    "and\n",
    "* Normalization = $N_0$ \n",
    "* Mean = $\\mu$\n",
    "* Sigma = $\\sigma$"
   ]
  },
  {
   "cell_type": "raw",
   "metadata": {},
   "source": [
    "<source name=\"LogGaussian_source\" type=\"PointSource\">\n",
    "<!-- point source units are cm^-2 s^-1 MeV^-1 -->\n",
    "<spectrum type=\"LogGaussian\">\n",
    "<parameter free=\"1\" max=\"1000.0\" min=\"0.001\" name=\"Prefactor\" scale=\"1e-09\" value=\"1\"/>\n",
    "<parameter free=\"1\" max=\"1e5\" min=\"1e3\" name=\"Mean\" scale=\"1.0\" value=\"7e4\"/>\n",
    "<parameter free=\"1\" max=\"30\" min=\"1e4\" name=\"Sigma\" scale=\"1.0\" value=\"1e3\"/>\n",
    "</spectrum>\n",
    "<spatialModel type=\"SkyDirFunction\">\n",
    "<parameter free=\"0\" max=\"360.\" min=\"-360.\" name=\"RA\" scale=\"1.0\" value=\"83.45\"/>\n",
    "<parameter free=\"0\" max=\"90.\" min=\"-90.\" name=\"DEC\" scale=\"1.0\" value=\"21.72\"/>\n",
    "</spatialModel>\n",
    "</source>"
   ]
  },
  {
   "cell_type": "markdown",
   "metadata": {},
   "source": [
    "## LogNormal\n",
    "\n",
    "Log (base10) normal distribution where the logarithm of the energy is distributed normally.  The free values are the logarithms of the mean and sigma, and the normalization."
   ]
  },
  {
   "cell_type": "markdown",
   "metadata": {},
   "source": [
    "$\\frac{dN}{dE} = \\frac{N_0\\log{(10)}}{(\\sqrt{2\\pi} \\log_{10}(\\sigma) E)} e^{-b^2/2}$"
   ]
  },
  {
   "cell_type": "markdown",
   "metadata": {},
   "source": [
    "where"
   ]
  },
  {
   "cell_type": "markdown",
   "metadata": {},
   "source": [
    "$b = \\frac{\\log_{10}(E) - \\log_{10}(\\mu)}{\\log_{10}(\\sigma)}$"
   ]
  },
  {
   "cell_type": "markdown",
   "metadata": {},
   "source": [
    "and"
   ]
  },
  {
   "cell_type": "markdown",
   "metadata": {},
   "source": [
    "* Normalization = $N_0$\n",
    "* Log10_Sigma = $\\log_{10}({\\sigma})$\n",
    "* Log10_Mean = $\\log_{10}({\\mu})$"
   ]
  },
  {
   "cell_type": "raw",
   "metadata": {},
   "source": [
    "<source name=\"LogNormal_source\" type=\"PointSource\">\n",
    "<!-- point source units are cm^-2 s^-1 MeV^-1 -->\n",
    "<spectrum type=\"LogNormal\">\n",
    "<parameter free=\"1\" max=\"1000.0\" min=\"0.001\" name=\"Prefactor\" scale=\"1e-09\" value=\"1\"/>\n",
    "<parameter free=\"1\" max=\"5\" min=\"3\" name=\"Log10_Mean\" scale=\"1.0\" value=\"4\"/>\n",
    "<parameter free=\"1\" max=\"5\" min=\"3\" name=\"Log10_Sigma\" scale=\"1.0\" value=\"3\"/>\n",
    "</spectrum>\n",
    "<spatialModel type=\"SkyDirFunction\">\n",
    "<parameter free=\"0\" max=\"360.\" min=\"-360.\" name=\"RA\" scale=\"1.0\" value=\"83.45\"/>\n",
    "<parameter free=\"0\" max=\"90.\" min=\"-90.\" name=\"DEC\" scale=\"1.0\" value=\"21.72\"/>\n",
    "</spatialModel>\n",
    "</source>"
   ]
  },
  {
   "cell_type": "markdown",
   "metadata": {},
   "source": [
    "## MultipleBrokenPowerLaw\n",
    "\n",
    "Power law with an arbitrary number of breaks.  The free parameters are the normalization at the first break and the indices.  The break energies must be fixed and there must be one less break than there are indices.  The maximum number of indices is 50.  "
   ]
  },
  {
   "cell_type": "markdown",
   "metadata": {},
   "source": [
    "$\\frac{dN}{dE} = \\begin{cases}\n",
    "               N_0(E/E_0)^{\\gamma_0}               & E < Eb_0\\\\\n",
    "               N_1(E/E_0)^{\\gamma_1}               & Eb_0 < E < Eb_1\\\\\n",
    "               \\vdots                              & \\vdots \\\\\n",
    "               N_k(E/E_0)^{\\gamma_k}               & Eb_{k-1} < E < Eb_{k}\\\\\n",
    "               \\vdots                              & \\vdots \\\\\n",
    "               N_n(E/E_0)^{\\gamma_n}               & E > Eb_{n-1} \n",
    "                \\end{cases} $"
   ]
  },
  {
   "cell_type": "markdown",
   "metadata": {},
   "source": [
    "where"
   ]
  },
  {
   "cell_type": "markdown",
   "metadata": {},
   "source": [
    "$E_0 = Eb_0$"
   ]
  },
  {
   "cell_type": "markdown",
   "metadata": {},
   "source": [
    "and"
   ]
  },
  {
   "cell_type": "markdown",
   "metadata": {},
   "source": [
    "$N_k = \\begin{cases}\n",
    "        N_0                                     & E < Eb_0\\\\\n",
    "        N_{k-1}(Eb_{k}/E_0)^{\\gamma_k - \\gamma_{k+1}}  & otherwise\n",
    "       \\end{cases} $"
   ]
  },
  {
   "cell_type": "markdown",
   "metadata": {},
   "source": [
    "and"
   ]
  },
  {
   "cell_type": "markdown",
   "metadata": {},
   "source": [
    "$n \\leq 50$"
   ]
  },
  {
   "cell_type": "markdown",
   "metadata": {},
   "source": [
    "and"
   ]
  },
  {
   "cell_type": "markdown",
   "metadata": {},
   "source": [
    "* Normalization = $N_0$\n",
    "* Index0, Index1,$\\ldots$,Indexk,$\\ldots$,Indexn = $\\gamma_0, \\gamma_1,\\ldots,\\gamma_k,\\ldots,\\gamma_n$\n",
    "* Break0, Break1,$\\ldots$,Breakk,$\\ldots$,Breakn-1 = $Eb_0, Eb_1,\\ldots,Eb_k,\\ldots,Eb_{n-1}$"
   ]
  },
  {
   "cell_type": "raw",
   "metadata": {},
   "source": [
    "<source name=\"MultipleBPL_source\" type=\"PointSource\">\n",
    "  <spectrum type=\"MultipleBPL\">\n",
    "    <parameter free=\"1\" min=\"0\" max=\"100\" name=\"Normalization\" scale=\"1e-6\" value=\"1\" />\n",
    "    <parameter free=\"1\" min=\"-5\" max=\"-1\" name=\"Index0\" scale=\"1\" value=\"-2.5\" />\n",
    "    <parameter free=\"1\" min=\"-5\" max=\"-1\" name=\"Index1\" scale=\"1\" value=\"-3\" />\n",
    "    <parameter free=\"1\" min=\"-5\" max=\"-1\" name=\"Index2\" scale=\"1\" value=\"-3.5\" />\n",
    "    <parameter free=\"0\" min=\"100\" max=\"1e5\" name=\"Break0\" scale=\"1\" value=\"1e3\" />\n",
    "    <parameter free=\"0\" min=\"100\" max=\"1e5\" name=\"Break1\" scale=\"1\" value=\"1e4\" />\n",
    "  </spectrum>\n",
    "  <spatialModel type=\"SkyDirFunction\">\n",
    "    <parameter free=\"0\" max=\"360\" min=\"-360\" name=\"RA\" scale=\"1\" value=\"82.74\"/>\n",
    "    <parameter free=\"0\" max=\"90\" min=\"-90\" name=\"DEC\" scale=\"1\" value=\"13.38\"/>\n",
    "  </spatialModel>\n",
    "</source>"
   ]
  },
  {
   "cell_type": "markdown",
   "metadata": {},
   "source": [
    "## PiecewisePowerLaw\n",
    "\n",
    "Function defined by differential fluxes at an arbitrary number of energies.  The spectrum is assumed to be a power law between each pair of differential fluxes.  The user must also provide the indicies above and below the first and last energy points. The normalizations are relative to the first normalizations."
   ]
  },
  {
   "cell_type": "markdown",
   "metadata": {},
   "source": [
    "$\\frac{dN}{dE} = \\begin{cases}\n",
    "               \\frac{dN}{dE}_0(E/E_0)^{\\gamma_L}               & E < E_0\\\\\n",
    "               \\vdots                              & \\vdots \\\\\n",
    "               N_k(E/E_k)^{\\gamma_k}               & E_{k} < E < E_{k+1}\\\\\n",
    "               \\vdots                              & \\vdots \\\\\n",
    "               \\frac{dN}{dE}_n(E/E_n)^{\\gamma_H}               & E > E_{n} \n",
    "                \\end{cases} $"
   ]
  },
  {
   "cell_type": "markdown",
   "metadata": {},
   "source": [
    "where"
   ]
  },
  {
   "cell_type": "markdown",
   "metadata": {},
   "source": [
    "$ N_j = \\frac{dN}{dE}_0\\times\\frac{dN}{dE}_k $"
   ]
  },
  {
   "cell_type": "markdown",
   "metadata": {},
   "source": [
    "and"
   ]
  },
  {
   "cell_type": "markdown",
   "metadata": {},
   "source": [
    "$\\gamma_k = \\frac{\\ln{(\\frac{dN}{dE}_{k+1}/\\frac{dN}{dE}_k)}}{\\ln{(E_{k+1}/E_k)}}$"
   ]
  },
  {
   "cell_type": "markdown",
   "metadata": {},
   "source": [
    "and"
   ]
  },
  {
   "cell_type": "markdown",
   "metadata": {},
   "source": [
    "* IndexL = $\\gamma_L$\n",
    "* IndexH = $\\gamma_H$\n",
    "* Energy0, Energy1, ..., Energyk, ..., Energyn = $E_0, E_1,\\ldots,E_k,\\ldots,E_n$\n",
    "* dNdE0, dNdE1, ..., dNdEk, ..., dNdEn = $\\frac{dN}{dE}_0, \\frac{dN}{dE}_1, \\ldots, \\frac{dN}{dE}_k, \\ldots, \\frac{dN}{dE}_n$"
   ]
  },
  {
   "cell_type": "markdown",
   "metadata": {},
   "source": [
    "with the constraints\n",
    "\n",
    "* The $\\frac{dN}{dE}_k$ and $E_k$ parameters must appear in order.\n",
    "* The number of $\\frac{dN}{dE}_k$ and $E_k$ parameters must be the same.\n",
    "* The value of $\\frac{dN}{dE}_0$ is the differential flux (#photons/area-time-energy) at $E_0$.  The remaining $\\frac{dN}{dE}$ values are the fluxes relative to $\\frac{dN}{dE}_0$, so that $\\frac{dN}{dE}_0$ operates as an overall normalization.\n",
    "* $\\gamma_L$ is the photon index that applies below $E_0$, and $\\gamma_H$ applies above the last Energy parameter.\n",
    "* All of the Energy parameters must be fixed (free=\"0\").\n",
    "* The maximum number of $\\frac{dN}{dE}_0$ parameters is 49.\n",
    "\n"
   ]
  },
  {
   "cell_type": "raw",
   "metadata": {},
   "source": [
    "<source name=\"PiecewisePowerLaw_source\" type=\"PointSource\">\n",
    "  <spectrum type=\"PiecewisePowerLaw\">\n",
    "    <parameter error=\"3.177467545e-06\" free=\"1\" max=\"1\" min=\"-5\" name=\"IndexL\" scale=\"1\" value=\"1\" />\n",
    "    <parameter error=\"10.93370427\" free=\"1\" max=\"1\" min=\"-5\" name=\"IndexH\" scale=\"1\" value=\"-1.65983471\" />\n",
    "    <parameter error=\"0.00122076882\" free=\"1\" max=\"100000\" min=\"1e-10\" name=\"dNdE0\" scale=\"1\" value=\"0.04484678012\" />\n",
    "    <parameter error=\"0.02528679806\" free=\"1\" max=\"100000\" min=\"1e-10\" name=\"dNdE1\" scale=\"1\" value=\"0.7060130187\" />\n",
    "    <parameter error=\"0.009884290218\" free=\"1\" max=\"100000\" min=\"1e-10\" name=\"dNdE2\" scale=\"1\" value=\"0.2442253559\" />\n",
    "    <parameter free=\"0\" max=\"100000\" min=\"100\" name=\"Energy0\" scale=\"1\" value=\"1e3\" />\n",
    "    <parameter free=\"0\" max=\"100000\" min=\"100\" name=\"Energy1\" scale=\"1\" value=\"3e3\" />\n",
    "    <parameter free=\"0\" max=\"100000\" min=\"100\" name=\"Energy2\" scale=\"1\" value=\"1e4\" />\n",
    "  </spectrum>\n",
    "  <spatialModel type=\"SkyDirFunction\">\n",
    "    <parameter free=\"0\" max=\"360\" min=\"-360\" name=\"RA\" scale=\"1\" value=\"82.74\"/>\n",
    "    <parameter free=\"0\" max=\"90\" min=\"-90\" name=\"DEC\" scale=\"1\" value=\"13.38\"/>\n",
    "  </spatialModel>\n",
    "</source>"
   ]
  },
  {
   "cell_type": "markdown",
   "metadata": {},
   "source": [
    "## SmoothDoubleBrokenPowerLaw\n",
    "\n",
    "Doubly broken power law that smoothly breaks.  The free parameters are the three indices (above, below and between the two breaks), an overall normalization as well as the two break energies.  Beta parameters are also free (what are these?) "
   ]
  },
  {
   "cell_type": "markdown",
   "metadata": {},
   "source": [
    "$\\frac{dN}{dE} = N_0 \\left(\\frac{E}{E_0}\\right)^{\\gamma_1} \\left(1 + \\left(\\frac{E}{E_{12}}\\right)^{\\frac{\\gamma_1 - \\gamma_2}{\\beta_{12}}}\\right)^{-\\beta_{12}}\\left(1 + \\left(\\frac{E}{E_{23}}\\right)^{\\frac{\\gamma_2 - \\gamma_3}{\\beta_{23}}}\\right)^{-\\beta_{23}}$"
   ]
  },
  {
   "cell_type": "markdown",
   "metadata": {},
   "source": [
    "where"
   ]
  },
  {
   "cell_type": "markdown",
   "metadata": {},
   "source": [
    "* Prefactor = $N_0$\n",
    "* Index1 = $\\gamma_1$\n",
    "* Index2 = $\\gamma_2$\n",
    "* Index3 = $\\gamma_3$\n",
    "* Beta12 = $\\beta_{12}$\n",
    "* Beta23 = $\\beta_{23}$\n",
    "* Scale = $E_0$\n",
    "* BreakValue12 = $E_{12}$ \n",
    "* BreakValue12 = $E_{23}$ "
   ]
  },
  {
   "cell_type": "raw",
   "metadata": {},
   "source": [
    "<source name=\"SmoothDoubleBrokenPowerLaw_source\" type=\"PointSource\">\n",
    "  <spectrum type=\"SmoothDoubleBrokenPowerLaw\">\n",
    "    <parameter free=\"1\" min=\"0\" max=\"100\" name=\"Normalization\" scale=\"1e-6\" value=\"1\" />\n",
    "    <parameter free=\"0\" max=\"2000.0\" min=\"30.0\" name=\"Scale\" scale=\"1.0\" value=\"100.0\"/>\n",
    "    <parameter free=\"1\" min=\"-5\" max=\"-1\" name=\"Index1\" scale=\"1\" value=\"-2.5\" />\n",
    "    <parameter free=\"1\" min=\"-5\" max=\"-1\" name=\"Index2\" scale=\"1\" value=\"-3\" />\n",
    "    <parameter free=\"1\" min=\"-5\" max=\"-1\" name=\"Index3\" scale=\"1\" value=\"-3.5\" />\n",
    "    <parameter free=\"0\" min=\"100\" max=\"1e5\" name=\"BreakValue12\" scale=\"1\" value=\"1e3\" />\n",
    "    <parameter free=\"0\" min=\"100\" max=\"1e5\" name=\"BreakValue231\" scale=\"1\" value=\"1e4\" />\n",
    "    <parameter free=\"1\" max=\"10\" min=\"0.01\" name=\"Beta12\" scale=\"1.0\" value=\"0.2\"/>\n",
    "    <parameter free=\"1\" max=\"10\" min=\"0.01\" name=\"Beta23\" scale=\"1.0\" value=\"0.2\"/>\n",
    "  </spectrum>\n",
    "  <spatialModel type=\"SkyDirFunction\">\n",
    "    <parameter free=\"0\" max=\"360\" min=\"-360\" name=\"RA\" scale=\"1\" value=\"82.74\"/>\n",
    "    <parameter free=\"0\" max=\"90\" min=\"-90\" name=\"DEC\" scale=\"1\" value=\"13.38\"/>\n",
    "  </spatialModel>\n",
    "</source>"
   ]
  },
  {
   "cell_type": "markdown",
   "metadata": {},
   "source": [
    "# Decorators\n",
    "\n",
    "Decortators are modifications to the standard models.  They can be used individually or in tandem.  \n",
    "\n",
    "They are applied by using"
   ]
  },
  {
   "cell_type": "raw",
   "metadata": {},
   "source": [
    "<spectrum type=\"Decorator::Function\">"
   ]
  },
  {
   "cell_type": "markdown",
   "metadata": {},
   "source": [
    "Where the 'Function' is a supported standard model and 'Decorator' is one of the decorators below.  "
   ]
  },
  {
   "cell_type": "markdown",
   "metadata": {},
   "source": [
    "## EblAtten\n",
    "\n",
    "The EblAtten method applies Extra Galactic Background Light (EBL) attenuation to a model.  The modification is done as"
   ]
  },
  {
   "cell_type": "markdown",
   "metadata": {},
   "source": [
    "$\\left(\\frac{dN}{dE}\\right)_\\text{attenuated} = \\left(\\frac{dN}{dE}\\right)_\\text{original}e^{-N_{\\tau}\\tau(E,z)}$ "
   ]
  },
  {
   "cell_type": "markdown",
   "metadata": {},
   "source": [
    "$\\left(\\frac{dN}{dE}\\right)_\\text{original}$ is one of the following functions\n",
    "* PowerLaw2\n",
    "* BrokenPowerLaw2\n",
    "* LogParabola\n",
    "* BandFunction\n",
    "* SmoothBrokenPowerLaw\n",
    "* FileFunction\n",
    "* ExpCutoff\n",
    "* BPLExpCutoff\n",
    "* PLSuperExpCutoff"
   ]
  },
  {
   "cell_type": "markdown",
   "metadata": {},
   "source": [
    "$\\tau(E,z)$ is a function of energy and redshift and is given by one of the follwoing models: "
   ]
  },
  {
   "cell_type": "markdown",
   "metadata": {},
   "source": [
    "<table>\n",
    "<tr><th>ebl_model</th><th>Name</th><th>Reference</th></tr>\n",
    "<tr><td>0</td><td>Kneiske</td><td>Kneiske et al - Best Fit (2004)</td></tr>\n",
    "<tr><td>1</td><td>Primack05<td>rimack et al (2005)</td></tr> \n",
    "<tr><td>2</td><td>Kneiske_HighUV<td>Kneiske et al - High UV (2004)</td></tr>\n",
    "<tr><td>3</td><td>Stecker05<td>Stecker et al (2006)</td></tr>\n",
    "<tr><td>4</td><td>Franceschini<td>Franceschini (2008)</td></tr>\n",
    "<tr><td>5</td><td>Finke<td>Finke et al. (2009)</td></tr>\n",
    "<tr><td>6</td><td>Gilmore<td>Gilmore et al. (2008)</td></tr>\n",
    "<tr><td>7</td><td>Stecker05_FE<td>Stecker et al (2006) - Fast Evolution</td></tr>\n",
    "<tr><td>8</td><td>SalamonStecker<td>Salamon and Stecker (1998) - with metallicity correction</td></tr>\n",
    "<tr><td>9</td><td>Generic<td>Generic representation of tau(E,z) from Justin Finke</td></tr>\n",
    "<tr><td>10</td><td>Gilmore12_fixed<td>Gilmore et al (2012) - WMAP5+Fixed</td></tr>\n",
    "<tr><td>11</td><td>Gilmore12_fiducial<td>Gilmore et al (2012) - Evolving Dust</td></tr>\n",
    "</table>"
   ]
  },
  {
   "cell_type": "markdown",
   "metadata": {},
   "source": [
    "* $N_{\\tau}$ = tau_norm\n",
    "* z = redshift\n",
    "* $\\tau(E,z)$ = ebl_model"
   ]
  },
  {
   "cell_type": "raw",
   "metadata": {},
   "source": [
    "   <spectrum type=\"EblAtten::PowerLaw2\">\n",
    "     <parameter free=\"1\" max=\"1000.0\" min=\"1e-05\" name=\"Integral\" scale=\"1e-06\" value=\"2.0\"/>\n",
    "     <parameter free=\"1\" max=\"-1.0\" min=\"-5.0\" name=\"Index\" scale=\"1.0\" value=\"-2.0\"/>\n",
    "     <parameter free=\"0\" max=\"200000.0\" min=\"20.0\" name=\"LowerLimit\" scale=\"1.0\" value=\"20.0\"/>\n",
    "     <parameter free=\"0\" max=\"200000.0\" min=\"20.0\" name=\"UpperLimit\" scale=\"1.0\" value=\"2e5\"/>\n",
    "     <parameter free=\"1\" max=\"10\" min=\"0\" name=\"tau_norm\" scale=\"1.0\" value=\"1\"/>\n",
    "     <parameter free=\"0\" max=\"10\" min=\"0\" name=\"redshift\" scale=\"1.0\" value=\"0.5\"/>\n",
    "     <parameter free=\"0\" max=\"8\" min=\"0\" name=\"ebl_model\" scale=\"1.0\" value=\"0\"/>\n",
    "   </spectrum>"
   ]
  },
  {
   "cell_type": "code",
   "execution_count": null,
   "metadata": {
    "collapsed": false
   },
   "outputs": [],
   "source": []
  }
 ],
 "metadata": {
  "kernelspec": {
   "display_name": "Python 2",
   "language": "python",
   "name": "python2"
  },
  "language_info": {
   "codemirror_mode": {
    "name": "ipython",
    "version": 2
   },
   "file_extension": ".py",
   "mimetype": "text/x-python",
   "name": "python",
   "nbconvert_exporter": "python",
   "pygments_lexer": "ipython2",
   "version": "2.7.10"
  }
 },
 "nbformat": 4,
 "nbformat_minor": 0
}
