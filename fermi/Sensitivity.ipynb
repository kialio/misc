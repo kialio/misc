{
 "cells": [
  {
   "cell_type": "code",
   "execution_count": 1,
   "metadata": {
    "collapsed": true
   },
   "outputs": [],
   "source": [
    "%matplotlib inline"
   ]
  },
  {
   "cell_type": "code",
   "execution_count": 2,
   "metadata": {
    "collapsed": true
   },
   "outputs": [],
   "source": [
    "import numpy as np\n",
    "import matplotlib.pyplot as plt\n",
    "from astropy.io import ascii\n",
    "from astropy.table import Table"
   ]
  },
  {
   "cell_type": "code",
   "execution_count": 3,
   "metadata": {
    "collapsed": true
   },
   "outputs": [],
   "source": [
    "from fermipy.scripts import flux_sensitivity"
   ]
  },
  {
   "cell_type": "code",
   "execution_count": 4,
   "metadata": {
    "collapsed": true
   },
   "outputs": [],
   "source": [
    "dict20 = {'event_class': 'P8R2_SOURCE_V6',\n",
    " 'galdiff': '/data/slag2/jsperki1/analysis/models/gll_iem_v06.fits',\n",
    " 'glat': 0.0,\n",
    " 'glon': 0.0,\n",
    " 'index': 2.0,\n",
    " 'isodiff': '/data/slag2/jsperki1/analysis/models/iso_P8R2_SOURCE_V6_v06.txt',\n",
    " 'min_counts': 10,\n",
    " 'nbin': 18,\n",
    " 'obs_time_yr': 10,\n",
    " 'output': 'LATsen2.000000.fits'}"
   ]
  },
  {
   "cell_type": "code",
   "execution_count": 5,
   "metadata": {
    "collapsed": true
   },
   "outputs": [],
   "source": [
    "flux_sensitivity.run_flux_sensitivity(**dict20)"
   ]
  },
  {
   "cell_type": "code",
   "execution_count": 6,
   "metadata": {
    "collapsed": true
   },
   "outputs": [],
   "source": [
    "dict35 = {'event_class': 'P8R2_SOURCE_V6',\n",
    " 'galdiff': '/data/slag2/jsperki1/analysis/models/gll_iem_v06.fits',\n",
    " 'glat': 0.0,\n",
    " 'glon': 0.0,\n",
    " 'index': 3.5,\n",
    " 'isodiff': '/data/slag2/jsperki1/analysis/models/iso_P8R2_SOURCE_V6_v06.txt',\n",
    " 'min_counts': 10,\n",
    " 'nbin': 18,\n",
    " 'obs_time_yr': 10,\n",
    " 'output': 'LATsen3.500000.fits'}"
   ]
  },
  {
   "cell_type": "code",
   "execution_count": 7,
   "metadata": {
    "collapsed": true
   },
   "outputs": [],
   "source": [
    "flux_sensitivity.run_flux_sensitivity(**dict35)"
   ]
  },
  {
   "cell_type": "code",
   "execution_count": 8,
   "metadata": {
    "collapsed": true
   },
   "outputs": [],
   "source": [
    "official_file = 'differential_flux_sensitivity_p8r2_source_v6_all_10yr_zmax100_n10.0_e1.50_ts25_000_000.txt'\n",
    "url = 'https://www.slac.stanford.edu/exp/glast/groups/canda/lat_Performance_files/'+official_file"
   ]
  },
  {
   "cell_type": "code",
   "execution_count": 33,
   "metadata": {},
   "outputs": [
    {
     "name": "stdout",
     "output_type": "stream",
     "text": [
      "--2017-06-21 10:39:45--  https://www.slac.stanford.edu/exp/glast/groups/canda/lat_Performance_files/differential_flux_sensitivity_p8r2_source_v6_all_10yr_zmax100_n10.0_e1.50_ts25_000_000.txt\n",
      "Resolving www.slac.stanford.edu... 134.79.197.200, 2620:114:d000:2716::200\n",
      "Connecting to www.slac.stanford.edu|134.79.197.200|:443... connected.\n",
      "HTTP request sent, awaiting response... 200 OK\n",
      "Length: 990 [text/plain]\n",
      "Saving to: “differential_flux_sensitivity_p8r2_source_v6_all_10yr_zmax100_n10.0_e1.50_ts25_000_000.txt”\n",
      "\n",
      "100%[======================================>] 990         --.-K/s   in 0s      \n",
      "\n",
      "2017-06-21 10:39:46 (22.7 MB/s) - “differential_flux_sensitivity_p8r2_source_v6_all_10yr_zmax100_n10.0_e1.50_ts25_000_000.txt” saved [990/990]\n",
      "\n"
     ]
    }
   ],
   "source": [
    "!wget $url"
   ]
  },
  {
   "cell_type": "code",
   "execution_count": 9,
   "metadata": {
    "collapsed": true
   },
   "outputs": [],
   "source": [
    "official = ascii.read(official_file, format='no_header')"
   ]
  },
  {
   "cell_type": "code",
   "execution_count": 10,
   "metadata": {
    "collapsed": true
   },
   "outputs": [],
   "source": [
    "meV2erg = 1.6021765300000047e-06\n",
    "tab20 = Table.read('LATsen2.000000.fits',hdu=1)\n",
    "tab35 = Table.read('LATsen3.500000.fits',hdu=1)\n",
    "sens20 = np.array(tab20['e2dnde'])*meV2erg\n",
    "sens35 = np.array(tab35['e2dnde'])*meV2erg"
   ]
  },
  {
   "cell_type": "code",
   "execution_count": 11,
   "metadata": {},
   "outputs": [
    {
     "data": {
      "image/png": "[encoded data removed]",
      "text/plain": [
       "<matplotlib.figure.Figure at 0x7f97669ac290>"
      ]
     },
     "metadata": {},
     "output_type": "display_data"
    }
   ],
   "source": [
    "plt.figure(figsize=(10,8))\n",
    "plt.yscale('log')\n",
    "plt.xscale('log')\n",
    "plt.xlabel('Energy [MeV]')\n",
    "plt.ylabel(r'E$^2$ x Flux [ergs cm$^{-2}$s$^{-1}$]')\n",
    "\n",
    "plt.errorbar((official['col2'] + official['col1'])/2., \n",
    "             official['col3'],\n",
    "             xerr=(official['col2'] - official['col1'])/2.,\n",
    "             fmt='o', label='Official')\n",
    "\n",
    "plt.errorbar(tab20['e_ref'], \n",
    "             sens20,\n",
    "             xerr=(tab20['e_max'] - tab20['e_min'])/2.,\n",
    "             fmt='o', label='Index = 2.0')\n",
    "\n",
    "\n",
    "plt.errorbar(tab35['e_ref'], \n",
    "             sens35,\n",
    "             xerr=(tab35['e_max'] - tab35['e_min'])/2.,\n",
    "             fmt='o', label=\"Index = 3.5\")\n",
    "plt.legend(loc='upper left')\n",
    "\n",
    "plt.show()"
   ]
  },
  {
   "cell_type": "code",
   "execution_count": 12,
   "metadata": {
    "collapsed": true
   },
   "outputs": [],
   "source": [
    "from gt_apps import filter, maketime, expCube"
   ]
  },
  {
   "cell_type": "code",
   "execution_count": 26,
   "metadata": {
    "collapsed": true
   },
   "outputs": [],
   "source": [
    "filter['ra']=\"INDEF\"\n",
    "filter['dec']=\"INDEF\"\n",
    "filter['rad'] = \"INDEF\"\n",
    "filter['evclass'] = 128\n",
    "filter['evtype'] = \"INDEF\"\n",
    "filter['infile'] = '@data/data.txt'\n",
    "filter['outfile'] = 'ft1.fits'\n",
    "filter['tmin'] = \"INDEF\"\n",
    "filter['tmax'] = \"INDEF\"\n",
    "filter['emin'] = 0.0\n",
    "filter['emax'] = 1000000.0\n",
    "filter['zmin'] = 0\n",
    "filter['zmax'] = 100\n",
    "filter['convtype'] = -1\n",
    "filter['chatter'] = 0\n",
    "filter.run(print_command=True)"
   ]
  },
  {
   "cell_type": "code",
   "execution_count": 28,
   "metadata": {},
   "outputs": [
    {
     "name": "stdout",
     "output_type": "stream",
     "text": [
      "time -p gtmktime scfile=data/L170621120758C6489F7F85_SC00.fits sctable=\"SC_DATA\" filter=\"DATA_QUAL>0 && LAT_CONFIG==1\" roicut=yes evfile=ft1.fits evtable=\"EVENTS\" outfile=\"ft1_mktime.fits\" apply_filter=yes overwrite=no header_obstimes=yes tstart=0.0 tstop=0.0 gtifile=\"default\" chatter=2 clobber=yes debug=no gui=no mode=\"ql\"\n",
      "real 158.47\n",
      "user 140.43\n",
      "sys 2.25\n"
     ]
    }
   ],
   "source": [
    "maketime['evfile'] = 'ft1.fits'\n",
    "maketime['outfile'] = 'ft1_mktime.fits'\n",
    "maketime['scfile'] = 'data/L170621120758C6489F7F85_SC00.fits'\n",
    "maketime['filter'] = 'DATA_QUAL>0 && LAT_CONFIG==1'\n",
    "maketime['apply_filter'] = 'yes'\n",
    "maketime['roicut'] = 'yes'\n",
    "maketime.run()"
   ]
  },
  {
   "cell_type": "code",
   "execution_count": 29,
   "metadata": {},
   "outputs": [
    {
     "name": "stdout",
     "output_type": "stream",
     "text": [
      "Working on file data/L170621120758C6489F7F85_SC00.fits\n"
     ]
    }
   ],
   "source": [
    "expCube['evfile'] = 'ft1_mktime.fits'\n",
    "expCube['scfile'] = 'data/L170621120758C6489F7F85_SC00.fits'\n",
    "expCube['outfile'] = 'ltcube.fits'\n",
    "expCube['dcostheta'] = 0.025\n",
    "expCube['binsz'] = 1\n",
    "expCube['phibins'] = 0\n",
    "expCube['zmax'] = 100\n",
    "expCube['chatter'] = 0\n",
    "expCube.run(print_command=True)"
   ]
  },
  {
   "cell_type": "code",
   "execution_count": 17,
   "metadata": {
    "collapsed": true
   },
   "outputs": [],
   "source": [
    "dict_ltcube = {'event_class': 'P8R2_SOURCE_V6',\n",
    " 'galdiff': '/data/slag2/jsperki1/analysis/models/gll_iem_v06.fits',\n",
    " 'glat': 0.0,\n",
    " 'glon': 0.0,\n",
    " 'index': 2.0,\n",
    " 'isodiff': '/data/slag2/jsperki1/analysis/models/iso_P8R2_SOURCE_V6_v06.txt',\n",
    " 'min_counts': 10,\n",
    " 'nbin': 18,\n",
    " 'obs_time_yr': 5,\n",
    " 'ltcube' : 'ltcube.fits',\n",
    " 'output': 'LATsen_ltcube.fits'}"
   ]
  },
  {
   "cell_type": "code",
   "execution_count": 18,
   "metadata": {
    "collapsed": true
   },
   "outputs": [],
   "source": [
    "flux_sensitivity.run_flux_sensitivity(**dict_ltcube)"
   ]
  },
  {
   "cell_type": "code",
   "execution_count": 19,
   "metadata": {
    "collapsed": true
   },
   "outputs": [],
   "source": [
    "tab_lt = Table.read('LATsen_ltcube.fits',hdu=1)\n",
    "sens_lt = np.array(tab_lt['e2dnde'])*meV2erg\n"
   ]
  },
  {
   "cell_type": "code",
   "execution_count": 20,
   "metadata": {},
   "outputs": [
    {
     "data": {
      "image/png": "[encoded data removed]",
      "text/plain": [
       "<matplotlib.figure.Figure at 0x7f97666d08d0>"
      ]
     },
     "metadata": {},
     "output_type": "display_data"
    }
   ],
   "source": [
    "plt.figure(figsize=(10,8))\n",
    "plt.yscale('log')\n",
    "plt.xscale('log')\n",
    "plt.xlabel('Energy [MeV]')\n",
    "plt.ylabel(r'E$^2$ x Flux [ergs cm$^{-2}$s$^{-1}$]')\n",
    "\n",
    "plt.errorbar((official['col2'] + official['col1'])/2., \n",
    "             official['col3'],\n",
    "             xerr=(official['col2'] - official['col1'])/2.,\n",
    "             fmt='o', label='Official')\n",
    "\n",
    "plt.errorbar(tab20['e_ref'], \n",
    "             sens20,\n",
    "             xerr=(tab20['e_max'] - tab20['e_min'])/2.,\n",
    "             fmt='o', label='Index = 2.0')\n",
    "\n",
    "\n",
    "plt.errorbar(tab35['e_ref'], \n",
    "             sens35,\n",
    "             xerr=(tab35['e_max'] - tab35['e_min'])/2.,\n",
    "             fmt='o', label=\"Index = 3.5\")\n",
    "\n",
    "plt.errorbar(tab_lt['e_ref'], \n",
    "             sens_lt/2.,\n",
    "             xerr=(tab_lt['e_max'] - tab_lt['e_min'])/2.,\n",
    "             fmt='o', label=\"Index = 2.0, with LT\")\n",
    "\n",
    "\n",
    "plt.legend(loc='upper left')\n",
    "\n",
    "plt.show()"
   ]
  },
  {
   "cell_type": "code",
   "execution_count": 51,
   "metadata": {},
   "outputs": [
    {
     "data": {
      "text/html": [
       "&lt;Column name=&apos;col3&apos; dtype=&apos;float64&apos; length=18&gt;\n",
       "<table>\n",
       "<tr><td>1.32812092128</td></tr>\n",
       "<tr><td>1.48745509276</td></tr>\n",
       "<tr><td>1.51804029362</td></tr>\n",
       "<tr><td>1.58157718451</td></tr>\n",
       "<tr><td>1.63615467414</td></tr>\n",
       "<tr><td>1.65448948663</td></tr>\n",
       "<tr><td>1.60464959209</td></tr>\n",
       "<tr><td>1.60986680731</td></tr>\n",
       "<tr><td>1.58881676183</td></tr>\n",
       "<tr><td>1.532831319</td></tr>\n",
       "<tr><td>1.46028339854</td></tr>\n",
       "<tr><td>1.3931148166</td></tr>\n",
       "<tr><td>1.33054577038</td></tr>\n",
       "<tr><td>1.16786418141</td></tr>\n",
       "<tr><td>1.09424848764</td></tr>\n",
       "<tr><td>1.08244829712</td></tr>\n",
       "<tr><td>1.07749254513</td></tr>\n",
       "<tr><td>1.06964084138</td></tr>\n",
       "</table>"
      ],
      "text/plain": [
       "<Column name='col3' dtype='float64' length=18>\n",
       "1.32812092128\n",
       "1.48745509276\n",
       "1.51804029362\n",
       "1.58157718451\n",
       "1.63615467414\n",
       "1.65448948663\n",
       "1.60464959209\n",
       "1.60986680731\n",
       "1.58881676183\n",
       "  1.532831319\n",
       "1.46028339854\n",
       " 1.3931148166\n",
       "1.33054577038\n",
       "1.16786418141\n",
       "1.09424848764\n",
       "1.08244829712\n",
       "1.07749254513\n",
       "1.06964084138"
      ]
     },
     "execution_count": 51,
     "metadata": {},
     "output_type": "execute_result"
    }
   ],
   "source": [
    "(sens_lt / official['col3']) "
   ]
  },
  {
   "cell_type": "code",
   "execution_count": 43,
   "metadata": {},
   "outputs": [
    {
     "data": {
      "text/html": [
       "&lt;Column name=&apos;e_ref&apos; dtype=&apos;float64&apos; unit=&apos;MeV&apos; length=18&gt;\n",
       "<table>\n",
       "<tr><td>0.0237137370566</td></tr>\n",
       "<tr><td>0.0133352143216</td></tr>\n",
       "<tr><td>0.00749894209332</td></tr>\n",
       "<tr><td>0.00421696503429</td></tr>\n",
       "<tr><td>0.00237137370566</td></tr>\n",
       "<tr><td>0.00133352143216</td></tr>\n",
       "<tr><td>0.000749894209332</td></tr>\n",
       "<tr><td>0.000421696503429</td></tr>\n",
       "<tr><td>0.000237137370566</td></tr>\n",
       "<tr><td>0.000133352143216</td></tr>\n",
       "<tr><td>7.49894209332e-05</td></tr>\n",
       "<tr><td>4.21696503429e-05</td></tr>\n",
       "<tr><td>2.37137370566e-05</td></tr>\n",
       "<tr><td>1.33352143216e-05</td></tr>\n",
       "<tr><td>7.49894209332e-06</td></tr>\n",
       "<tr><td>4.21696503429e-06</td></tr>\n",
       "<tr><td>2.37137370566e-06</td></tr>\n",
       "<tr><td>1.33352143216e-06</td></tr>\n",
       "</table>"
      ],
      "text/plain": [
       "<Column name='e_ref' dtype='float64' unit='MeV' length=18>\n",
       "  0.0237137370566\n",
       "  0.0133352143216\n",
       " 0.00749894209332\n",
       " 0.00421696503429\n",
       " 0.00237137370566\n",
       " 0.00133352143216\n",
       "0.000749894209332\n",
       "0.000421696503429\n",
       "0.000237137370566\n",
       "0.000133352143216\n",
       "7.49894209332e-05\n",
       "4.21696503429e-05\n",
       "2.37137370566e-05\n",
       "1.33352143216e-05\n",
       "7.49894209332e-06\n",
       "4.21696503429e-06\n",
       "2.37137370566e-06\n",
       "1.33352143216e-06"
      ]
     },
     "execution_count": 43,
     "metadata": {},
     "output_type": "execute_result"
    }
   ],
   "source": [
    "1./tab_lt['e_ref']"
   ]
  },
  {
   "cell_type": "code",
   "execution_count": null,
   "metadata": {
    "collapsed": true
   },
   "outputs": [],
   "source": []
  }
 ],
 "metadata": {
  "kernelspec": {
   "display_name": "Python 2",
   "language": "python",
   "name": "python2"
  },
  "language_info": {
   "codemirror_mode": {
    "name": "ipython",
    "version": 2
   },
   "file_extension": ".py",
   "mimetype": "text/x-python",
   "name": "python",
   "nbconvert_exporter": "python",
   "pygments_lexer": "ipython2",
   "version": "2.7.13"
  }
 },
 "nbformat": 4,
 "nbformat_minor": 2
}
